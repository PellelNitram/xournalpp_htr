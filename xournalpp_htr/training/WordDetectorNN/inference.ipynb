{
 "cells": [
  {
   "cell_type": "code",
   "execution_count": null,
   "id": "c0d70c22",
   "metadata": {},
   "outputs": [],
   "source": [
    "%load_ext autoreload\n",
    "%autoreload 2"
   ]
  },
  {
   "cell_type": "code",
   "execution_count": null,
   "id": "3e17345d",
   "metadata": {},
   "outputs": [],
   "source": [
    "from pathlib import Path\n",
    "\n",
    "import numpy as np\n",
    "import cv2\n",
    "import matplotlib.pyplot as plt\n",
    "\n",
    "from my_code import draw_bboxes_on_image\n",
    "from my_code import run_image_through_network"
   ]
  },
  {
   "cell_type": "code",
   "execution_count": null,
   "id": "d62b7676",
   "metadata": {},
   "outputs": [],
   "source": [
    "example_image_path = Path('cvl.jpg')"
   ]
  },
  {
   "cell_type": "code",
   "execution_count": null,
   "id": "d6216a2a",
   "metadata": {},
   "outputs": [],
   "source": [
    "image = cv2.imread(str(example_image_path))"
   ]
  },
  {
   "cell_type": "code",
   "execution_count": null,
   "id": "e5e6595b",
   "metadata": {},
   "outputs": [],
   "source": [
    "gray_image = cv2.cvtColor(image, cv2.COLOR_BGR2GRAY)"
   ]
  },
  {
   "cell_type": "code",
   "execution_count": null,
   "id": "caf4d9dd",
   "metadata": {},
   "outputs": [],
   "source": [
    "fig, axes = plt.subplots(1, 2, figsize=(12, 6))\n",
    "inp = cv2.cvtColor(image, cv2.COLOR_BGR2RGB)\n",
    "axes[0].imshow(inp)\n",
    "axes[0].set_title(f'Original Image @ {inp.shape}')\n",
    "axes[0].axis('off')\n",
    "\n",
    "inp = cv2.cvtColor(gray_image, cv2.COLOR_GRAY2RGB)\n",
    "axes[1].imshow(inp)\n",
    "axes[1].set_title(f'Grayscale Image @ {inp.shape}')\n",
    "axes[1].axis('off')\n",
    "\n",
    "fig.suptitle('input vs grayscaled image')\n",
    "\n",
    "plt.tight_layout()\n",
    "plt.show()"
   ]
  },
  {
   "cell_type": "code",
   "execution_count": null,
   "id": "fdd2457b",
   "metadata": {},
   "outputs": [],
   "source": [
    "result = run_image_through_network(\n",
    "    image_grayscale=gray_image,\n",
    "    model_path=Path('best_model.pth'),\n",
    ")"
   ]
  },
  {
   "cell_type": "code",
   "execution_count": null,
   "id": "559c189e",
   "metadata": {},
   "outputs": [],
   "source": [
    "vis = draw_bboxes_on_image(result['model_input_image'], result['aabbs'])"
   ]
  },
  {
   "cell_type": "code",
   "execution_count": null,
   "id": "84e75265",
   "metadata": {},
   "outputs": [],
   "source": [
    "fig, axes = plt.subplots(1, 2, figsize=(12, 6))\n",
    "\n",
    "inp = cv2.cvtColor(result['model_input_image'], cv2.COLOR_GRAY2BGR)\n",
    "axes[0].imshow(inp)\n",
    "axes[0].set_title(f'NN input @ {inp.shape}')\n",
    "axes[0].axis('off')\n",
    "\n",
    "pred = cv2.cvtColor(vis, cv2.COLOR_BGR2RGB)\n",
    "axes[1].imshow(pred, cmap='gray')\n",
    "axes[1].set_title(f'NN prediction @ {pred.shape}')\n",
    "axes[1].axis('off')\n",
    "\n",
    "plt.tight_layout()\n",
    "plt.show()"
   ]
  },
  {
   "cell_type": "code",
   "execution_count": null,
   "id": "21224f78",
   "metadata": {},
   "outputs": [],
   "source": [
    "scaling_factors = np.array(gray_image.shape) / np.array(result['model_input_image'].shape)"
   ]
  },
  {
   "cell_type": "code",
   "execution_count": null,
   "id": "56045fb2",
   "metadata": {},
   "outputs": [],
   "source": [
    "bboxes_scaled = [ aabb.scale(*scaling_factors[::-1]) for aabb in result['aabbs'] ]"
   ]
  },
  {
   "cell_type": "code",
   "execution_count": null,
   "id": "4cede911",
   "metadata": {},
   "outputs": [],
   "source": [
    "vis_scaled = draw_bboxes_on_image(image, bboxes_scaled, denormalise=False)"
   ]
  },
  {
   "cell_type": "code",
   "execution_count": null,
   "id": "10498a29",
   "metadata": {},
   "outputs": [],
   "source": [
    "fig, axes = plt.subplots(1, 2, figsize=(12, 6))\n",
    "\n",
    "inp = cv2.cvtColor(image, cv2.COLOR_BGR2RGB)\n",
    "axes[0].imshow(inp)\n",
    "axes[0].set_title(f'NN input @ {inp.shape}')\n",
    "axes[0].axis('off')\n",
    "\n",
    "inp = cv2.cvtColor(vis_scaled, cv2.COLOR_BGR2RGB)\n",
    "axes[1].imshow(pred)#, cmap='gray')\n",
    "axes[1].set_title(f'NN prediction @ {inp.shape}')\n",
    "axes[1].axis('off')\n",
    "\n",
    "plt.tight_layout()\n",
    "plt.show()"
   ]
  },
  {
   "cell_type": "code",
   "execution_count": null,
   "id": "03c2103f",
   "metadata": {},
   "outputs": [],
   "source": [
    "# [x] TODO: Move fct into `my_code` module\n",
    "# [x] TODO: Reformat into old image size -> scale up only bouding boxes and overlay on originally loaded image; maybe also on rescaled returned image, just to make sure\n",
    "# [x] TODO: Fix color space mismatch\n",
    "# [ ] TODO: Put into gradio app; add it here as Jupyter Notebook gradio app first."
   ]
  }
 ],
 "metadata": {
  "kernelspec": {
   "display_name": "pytorch (3.12.10)",
   "language": "python",
   "name": "python3"
  },
  "language_info": {
   "codemirror_mode": {
    "name": "ipython",
    "version": 3
   },
   "file_extension": ".py",
   "mimetype": "text/x-python",
   "name": "python",
   "nbconvert_exporter": "python",
   "pygments_lexer": "ipython3",
   "version": "3.12.10"
  }
 },
 "nbformat": 4,
 "nbformat_minor": 5
}
