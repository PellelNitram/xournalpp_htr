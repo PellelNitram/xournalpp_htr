{
 "cells": [
  {
   "cell_type": "markdown",
   "id": "539c5c9b",
   "metadata": {},
   "source": [
    "# Run Training\n",
    "\n",
    "This notebook trains the neural network and serves as starting point to move the training into a separate Python script."
   ]
  },
  {
   "cell_type": "code",
   "execution_count": null,
   "id": "7feb9aa4",
   "metadata": {},
   "outputs": [],
   "source": []
  },
  {
   "cell_type": "code",
   "execution_count": null,
   "id": "ab3f1774",
   "metadata": {},
   "outputs": [],
   "source": []
  },
  {
   "cell_type": "markdown",
   "id": "eec9d596",
   "metadata": {},
   "source": [
    "## Settings"
   ]
  },
  {
   "cell_type": "code",
   "execution_count": null,
   "id": "b56f6c49",
   "metadata": {},
   "outputs": [],
   "source": []
  },
  {
   "cell_type": "markdown",
   "id": "16678646",
   "metadata": {},
   "source": [
    "## Data"
   ]
  },
  {
   "cell_type": "code",
   "execution_count": null,
   "id": "2ecf01af",
   "metadata": {},
   "outputs": [],
   "source": []
  },
  {
   "cell_type": "markdown",
   "id": "b972310c",
   "metadata": {},
   "source": [
    "## Training"
   ]
  },
  {
   "cell_type": "code",
   "execution_count": null,
   "id": "c9b0d80c",
   "metadata": {},
   "outputs": [],
   "source": []
  },
  {
   "cell_type": "markdown",
   "id": "b1d87f23",
   "metadata": {},
   "source": [
    "## Analyse"
   ]
  },
  {
   "cell_type": "markdown",
   "id": "f6fd45dc",
   "metadata": {},
   "source": [
    "Let's check how the predicted maps look like:"
   ]
  },
  {
   "cell_type": "code",
   "execution_count": null,
   "id": "5a755d9b",
   "metadata": {},
   "outputs": [],
   "source": [
    "net.eval()\n",
    "avg_loss = 0.0\n",
    "batch = next(iter(dataloader_val))\n",
    "with torch.no_grad():\n",
    "    images = batch['images']\n",
    "    gt_encoded = batch['gt_encoded']\n",
    "    images = images.to(device)\n",
    "    gt_encoded = gt_encoded.to(device)\n",
    "    y = net(images, apply_softmax=True)\n",
    "    # loss = compute_loss(y, gt_encoded) # Not compatible w/ y if apply_softmax=True"
   ]
  },
  {
   "cell_type": "markdown",
   "id": "f24701a6",
   "metadata": {},
   "source": [
    "Let's look at the prediction of inner words pixels because that is used for bounding box computation:"
   ]
  },
  {
   "cell_type": "code",
   "execution_count": null,
   "id": "1cddaf4e",
   "metadata": {},
   "outputs": [],
   "source": [
    "i_element_in_batch = 12\n",
    "prediction = y[i_element_in_batch, MapOrdering.SEG_WORD]"
   ]
  },
  {
   "cell_type": "code",
   "execution_count": null,
   "id": "9b936017",
   "metadata": {},
   "outputs": [],
   "source": [
    "gt = batch['gt_encoded'][i_element_in_batch, MapOrdering.SEG_WORD].cpu().numpy()\n",
    "pred = prediction.cpu().numpy()\n",
    "\n",
    "plt.figure(figsize=(10, 4))\n",
    "plt.subplot(1, 2, 1)\n",
    "plt.title(\"Prediction\")\n",
    "plt.imshow(pred > 0.5, cmap='gray')\n",
    "plt.subplot(1, 2, 2)\n",
    "plt.title(\"Ground Truth\")\n",
    "plt.imshow(gt, cmap='gray')\n",
    "plt.show()"
   ]
  },
  {
   "cell_type": "markdown",
   "id": "49c372f4",
   "metadata": {},
   "source": [
    "Very interesting, that looks actually quite good."
   ]
  }
 ],
 "metadata": {
  "kernelspec": {
   "display_name": "pytorch (3.12.10)",
   "language": "python",
   "name": "python3"
  },
  "language_info": {
   "codemirror_mode": {
    "name": "ipython",
    "version": 3
   },
   "file_extension": ".py",
   "mimetype": "text/x-python",
   "name": "python",
   "nbconvert_exporter": "python",
   "pygments_lexer": "ipython3",
   "version": "3.12.10"
  }
 },
 "nbformat": 4,
 "nbformat_minor": 5
}
